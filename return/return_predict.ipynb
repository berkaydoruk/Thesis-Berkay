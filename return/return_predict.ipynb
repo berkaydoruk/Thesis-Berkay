{
 "cells": [
  {
   "cell_type": "code",
   "id": "initial_id",
   "metadata": {
    "collapsed": true,
    "ExecuteTime": {
     "end_time": "2025-01-06T19:29:57.652424Z",
     "start_time": "2025-01-06T19:29:57.643404Z"
    }
   },
   "source": [
    "import openpyxl\n",
    "import pandas as pd\n",
    "\n",
    "file_path = \"return_cluster_data.xlsx\"\n",
    "df = pd.read_excel(file_path)\n",
    "\n",
    "print(df.head())"
   ],
   "outputs": [
    {
     "name": "stdout",
     "output_type": "stream",
     "text": [
      "   Month  Total Orders  Total Returns  Financial Concerns  Fit/Size Issues  \\\n",
      "0      6         20677            322                  20               33   \n",
      "1      7         20176            536                  32               68   \n",
      "2      8         14838            514                  16               66   \n",
      "3      9         14945            308                  15               35   \n",
      "\n",
      "   Logistics Issues  Personal Preferences  Product Issues  Special Cases  \n",
      "0                62                   158              48              0  \n",
      "1                79                   259              95              2  \n",
      "2                56                   286              87              0  \n",
      "3                49                   152              52              0  \n"
     ]
    }
   ],
   "execution_count": 29
  },
  {
   "metadata": {
    "ExecuteTime": {
     "end_time": "2025-01-06T19:31:37.178589Z",
     "start_time": "2025-01-06T19:31:37.168657Z"
    }
   },
   "cell_type": "code",
   "source": [
    "import numpy as np\n",
    "import pandas as pd\n",
    "\n",
    "np.random.seed(42)\n",
    "\n",
    "fake_data = {\n",
    "    'Month': list(range(10, 90)),\n",
    "    'Total Orders': np.random.normal(20000, 3000, 80).astype(int),\n",
    "    'Total Returns': np.random.normal(400, 100, 80).astype(int),\n",
    "    'Financial Concerns': np.random.randint(10, 50, 80),\n",
    "    'Fit/Size Issues': np.random.randint(30, 80, 80),\n",
    "    'Logistics Issues': np.random.randint(40, 100, 80),\n",
    "    'Personal Preferences': np.random.randint(150, 300, 80),\n",
    "    'Product Issues': np.random.randint(40, 100, 80),\n",
    "    'Special Cases': np.random.randint(0, 3, 80),\n",
    "}\n",
    "\n",
    "fake_df = pd.DataFrame(fake_data)\n",
    "\n",
    "# Bağımlılık ekleme\n",
    "fake_df['Total Returns'] = (fake_df['Total Orders'] * 0.02).astype(int)\n",
    "fake_df['Financial Concerns'] = (fake_df['Total Returns'] * 0.1).astype(int)\n",
    "fake_df['Fit/Size Issues'] = (fake_df['Total Returns'] * 0.2).astype(int)\n",
    "\n",
    "print(fake_df)"
   ],
   "id": "43a2fb39c2b3fa00",
   "outputs": [
    {
     "name": "stdout",
     "output_type": "stream",
     "text": [
      "    Month  Total Orders  Total Returns  Financial Concerns  Fit/Size Issues  \\\n",
      "0      10         21490            429                  42               85   \n",
      "1      11         19585            391                  39               78   \n",
      "2      12         21943            438                  43               87   \n",
      "3      13         24569            491                  49               98   \n",
      "4      14         19297            385                  38               77   \n",
      "..    ...           ...            ...                 ...              ...   \n",
      "75     85         22465            449                  44               89   \n",
      "76     86         20261            405                  40               81   \n",
      "77     87         19102            382                  38               76   \n",
      "78     88         20275            405                  40               81   \n",
      "79     89         14037            280                  28               56   \n",
      "\n",
      "    Logistics Issues  Personal Preferences  Product Issues  Special Cases  \n",
      "0                 60                   269              42              0  \n",
      "1                 78                   170              84              2  \n",
      "2                 75                   287              52              1  \n",
      "3                 72                   250              89              2  \n",
      "4                 69                   248              67              0  \n",
      "..               ...                   ...             ...            ...  \n",
      "75                97                   240              99              0  \n",
      "76                92                   239              89              1  \n",
      "77                89                   168              67              0  \n",
      "78                84                   188              67              0  \n",
      "79                50                   275              76              1  \n",
      "\n",
      "[80 rows x 9 columns]\n"
     ]
    }
   ],
   "execution_count": 30
  },
  {
   "metadata": {
    "ExecuteTime": {
     "end_time": "2025-01-06T19:31:59.211502Z",
     "start_time": "2025-01-06T19:31:59.201215Z"
    }
   },
   "cell_type": "code",
   "source": "print(fake_df.describe())",
   "id": "7193a92b63aa59ff",
   "outputs": [
    {
     "name": "stdout",
     "output_type": "stream",
     "text": [
      "         Month  Total Orders  Total Returns  Financial Concerns  \\\n",
      "count  80.0000     80.000000      80.000000           80.000000   \n",
      "mean   49.5000  19627.950000     392.037500           38.787500   \n",
      "std    23.2379   2872.437446      57.432502            5.738376   \n",
      "min    10.0000  12140.000000     242.000000           24.000000   \n",
      "25%    29.7500  18040.250000     360.500000           35.750000   \n",
      "50%    49.5000  19619.000000     392.000000           39.000000   \n",
      "75%    69.2500  21524.250000     429.750000           42.250000   \n",
      "max    89.0000  25556.000000     511.000000           51.000000   \n",
      "\n",
      "       Fit/Size Issues  Logistics Issues  Personal Preferences  \\\n",
      "count        80.000000         80.000000             80.000000   \n",
      "mean         78.037500         69.100000            231.150000   \n",
      "std          11.452095         17.269714             45.253184   \n",
      "min          48.000000         40.000000            154.000000   \n",
      "25%          71.750000         54.250000            187.500000   \n",
      "50%          78.000000         70.500000            235.000000   \n",
      "75%          85.250000         83.250000            271.000000   \n",
      "max         102.000000         99.000000            296.000000   \n",
      "\n",
      "       Product Issues  Special Cases  \n",
      "count       80.000000      80.000000  \n",
      "mean        70.975000       0.762500  \n",
      "std         18.112151       0.830491  \n",
      "min         40.000000       0.000000  \n",
      "25%         55.000000       0.000000  \n",
      "50%         70.500000       1.000000  \n",
      "75%         88.000000       1.250000  \n",
      "max         99.000000       2.000000  \n"
     ]
    }
   ],
   "execution_count": 31
  }
 ],
 "metadata": {
  "kernelspec": {
   "display_name": "Python 3",
   "language": "python",
   "name": "python3"
  },
  "language_info": {
   "codemirror_mode": {
    "name": "ipython",
    "version": 2
   },
   "file_extension": ".py",
   "mimetype": "text/x-python",
   "name": "python",
   "nbconvert_exporter": "python",
   "pygments_lexer": "ipython2",
   "version": "2.7.6"
  }
 },
 "nbformat": 4,
 "nbformat_minor": 5
}
