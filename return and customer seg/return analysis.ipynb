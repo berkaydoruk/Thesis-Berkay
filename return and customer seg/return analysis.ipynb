{
 "cells": [
  {
   "cell_type": "code",
   "id": "initial_id",
   "metadata": {
    "collapsed": true,
    "ExecuteTime": {
     "end_time": "2024-12-18T10:59:24.028572Z",
     "start_time": "2024-12-18T10:59:23.993021Z"
    }
   },
   "source": [
    "import pandas as pd\n",
    "import numpy as np\n",
    "from sklearn.feature_extraction.text import TfidfVectorizer\n",
    "from sklearn.cluster import KMeans\n",
    "import matplotlib.pyplot as plt\n",
    "import seaborn as sns\n",
    "\n",
    "file_path = 'returns.xlsx'\n",
    "df = pd.read_excel(file_path)\n",
    "\n",
    "print(\"First 5 rows of the dataset:\")\n",
    "print(df.head())\n",
    "\n",
    "print(\"\\nDataset Info:\")\n",
    "print(df.info())\n",
    "\n",
    "print(\"\\nMissing Values:\")\n",
    "print(df.isnull().sum())"
   ],
   "outputs": [
    {
     "name": "stdout",
     "output_type": "stream",
     "text": [
      "First 5 rows of the dataset:\n",
      "                   Barkod  Sipariş Numarası   İade Kargo Kodu  \\\n",
      "0          19092021104G3M        1974557710  7330008079118357   \n",
      "1             ddm23011505        1965778635  7280008082967900   \n",
      "2              ddm1040905        1985963934  7280008086588613   \n",
      "3  7metretelliyaprakrdt00        1980027276  7330008094503879   \n",
      "4          MDL8MDL11RDT05        1980027276  7330008094503879   \n",
      "\n",
      "     Sipariş Tarihi İade Talep Tarihi                 Kargo Firması  \\\n",
      "0  23.04.2023 13:32  01.05.2023 11:42  Trendyol Express Marketplace   \n",
      "1  17.04.2023 13:11  01.05.2023 15:42         MNG Kargo Marketplace   \n",
      "2  28.04.2023 14:20  01.05.2023 19:51         MNG Kargo Marketplace   \n",
      "3  25.04.2023 23:03  02.05.2023 10:36  Trendyol Express Marketplace   \n",
      "4  25.04.2023 23:03  02.05.2023 10:36  Trendyol Express Marketplace   \n",
      "\n",
      "                 İade Sebebi      Durum  \\\n",
      "0      Kalitesini beğenmedim  Onaylandı   \n",
      "1  Teslim edilemeyen gönderi  Onaylandı   \n",
      "2                      Diğer  Onaylandı   \n",
      "3   Bedeni/Ebatı Küçük Geldi  Onaylandı   \n",
      "4   Bedeni/Ebatı Küçük Geldi  Onaylandı   \n",
      "\n",
      "                                            Ürün Adı     Tedarikçi Stok Kodu  \\\n",
      "0  Dekoratif Yeşil Yapraklı Yapay Sarmaşık Ve 3 M...                RDTY0058   \n",
      "1  Unikum Tel Yaprak Şerit Yapay Taç Sarmaşık Süs...            RDTTAC000087   \n",
      "2  Tel Yaprak Şerit Yapay Taç Sarmaşık Süs 15 m d...                RDTTAC04   \n",
      "3  Telli 7 Metre Yaprak Şerit Yapay Taç Sarmaşık ...  7metretelliyaprakrdt00   \n",
      "4  Yapay Yaprak Sarmaşık Peri Led Işık Şerit Led ...          MDL8MDL11RDT05   \n",
      "\n",
      "  Ürün Rengi  Adet  Birim Fiyatı  Toplam Tutar     Faturalanan Kargo Tutarı  \n",
      "0   günışığı     3         49.00        147.00  Henüz fatura kesilmemiştir.  \n",
      "1      yeşil     1         49.00         49.00  Henüz fatura kesilmemiştir.  \n",
      "2      yeşil     2         59.00        118.00  Henüz fatura kesilmemiştir.  \n",
      "3        NaN     1         33.33         33.33  Henüz fatura kesilmemiştir.  \n",
      "4   Günışığı     1         83.00         83.00  Henüz fatura kesilmemiştir.  \n",
      "\n",
      "Dataset Info:\n",
      "<class 'pandas.core.frame.DataFrame'>\n",
      "RangeIndex: 183 entries, 0 to 182\n",
      "Data columns (total 15 columns):\n",
      " #   Column                    Non-Null Count  Dtype  \n",
      "---  ------                    --------------  -----  \n",
      " 0   Barkod                    183 non-null    object \n",
      " 1   Sipariş Numarası          183 non-null    int64  \n",
      " 2   İade Kargo Kodu           183 non-null    int64  \n",
      " 3   Sipariş Tarihi            183 non-null    object \n",
      " 4   İade Talep Tarihi         183 non-null    object \n",
      " 5   Kargo Firması             182 non-null    object \n",
      " 6   İade Sebebi               183 non-null    object \n",
      " 7   Durum                     183 non-null    object \n",
      " 8   Ürün Adı                  183 non-null    object \n",
      " 9   Tedarikçi Stok Kodu       183 non-null    object \n",
      " 10  Ürün Rengi                148 non-null    object \n",
      " 11  Adet                      183 non-null    int64  \n",
      " 12  Birim Fiyatı              183 non-null    float64\n",
      " 13  Toplam Tutar              183 non-null    float64\n",
      " 14  Faturalanan Kargo Tutarı  183 non-null    object \n",
      "dtypes: float64(2), int64(3), object(10)\n",
      "memory usage: 21.6+ KB\n",
      "None\n",
      "\n",
      "Missing Values:\n",
      "Barkod                       0\n",
      "Sipariş Numarası             0\n",
      "İade Kargo Kodu              0\n",
      "Sipariş Tarihi               0\n",
      "İade Talep Tarihi            0\n",
      "Kargo Firması                1\n",
      "İade Sebebi                  0\n",
      "Durum                        0\n",
      "Ürün Adı                     0\n",
      "Tedarikçi Stok Kodu          0\n",
      "Ürün Rengi                  35\n",
      "Adet                         0\n",
      "Birim Fiyatı                 0\n",
      "Toplam Tutar                 0\n",
      "Faturalanan Kargo Tutarı     0\n",
      "dtype: int64\n"
     ]
    }
   ],
   "execution_count": 4
  },
  {
   "metadata": {
    "ExecuteTime": {
     "end_time": "2024-12-18T10:59:48.852869Z",
     "start_time": "2024-12-18T10:59:48.846556Z"
    }
   },
   "cell_type": "code",
   "source": [
    "required_columns = ['İade Sebebi', 'Ürün Adı']\n",
    "for col in required_columns:\n",
    "    if col not in df.columns:\n",
    "        raise ValueError(f\"Column '{col}' is missing in the dataset.\")\n",
    "\n",
    "df_clean = df.dropna(subset=required_columns)\n",
    "\n",
    "print(f\"Shape of the dataset before cleaning: {df.shape}\")\n",
    "print(f\"Shape of the dataset after cleaning: {df_clean.shape}\")\n",
    "print(\"\\nSample data after cleaning:\")\n",
    "print(df_clean.head())"
   ],
   "id": "937fbe75be1680de",
   "outputs": [
    {
     "name": "stdout",
     "output_type": "stream",
     "text": [
      "Shape of the dataset before cleaning: (183, 15)\n",
      "Shape of the dataset after cleaning: (183, 15)\n",
      "\n",
      "Sample data after cleaning:\n",
      "                   Barkod  Sipariş Numarası   İade Kargo Kodu  \\\n",
      "0          19092021104G3M        1974557710  7330008079118357   \n",
      "1             ddm23011505        1965778635  7280008082967900   \n",
      "2              ddm1040905        1985963934  7280008086588613   \n",
      "3  7metretelliyaprakrdt00        1980027276  7330008094503879   \n",
      "4          MDL8MDL11RDT05        1980027276  7330008094503879   \n",
      "\n",
      "     Sipariş Tarihi İade Talep Tarihi                 Kargo Firması  \\\n",
      "0  23.04.2023 13:32  01.05.2023 11:42  Trendyol Express Marketplace   \n",
      "1  17.04.2023 13:11  01.05.2023 15:42         MNG Kargo Marketplace   \n",
      "2  28.04.2023 14:20  01.05.2023 19:51         MNG Kargo Marketplace   \n",
      "3  25.04.2023 23:03  02.05.2023 10:36  Trendyol Express Marketplace   \n",
      "4  25.04.2023 23:03  02.05.2023 10:36  Trendyol Express Marketplace   \n",
      "\n",
      "                 İade Sebebi      Durum  \\\n",
      "0      Kalitesini beğenmedim  Onaylandı   \n",
      "1  Teslim edilemeyen gönderi  Onaylandı   \n",
      "2                      Diğer  Onaylandı   \n",
      "3   Bedeni/Ebatı Küçük Geldi  Onaylandı   \n",
      "4   Bedeni/Ebatı Küçük Geldi  Onaylandı   \n",
      "\n",
      "                                            Ürün Adı     Tedarikçi Stok Kodu  \\\n",
      "0  Dekoratif Yeşil Yapraklı Yapay Sarmaşık Ve 3 M...                RDTY0058   \n",
      "1  Unikum Tel Yaprak Şerit Yapay Taç Sarmaşık Süs...            RDTTAC000087   \n",
      "2  Tel Yaprak Şerit Yapay Taç Sarmaşık Süs 15 m d...                RDTTAC04   \n",
      "3  Telli 7 Metre Yaprak Şerit Yapay Taç Sarmaşık ...  7metretelliyaprakrdt00   \n",
      "4  Yapay Yaprak Sarmaşık Peri Led Işık Şerit Led ...          MDL8MDL11RDT05   \n",
      "\n",
      "  Ürün Rengi  Adet  Birim Fiyatı  Toplam Tutar     Faturalanan Kargo Tutarı  \n",
      "0   günışığı     3         49.00        147.00  Henüz fatura kesilmemiştir.  \n",
      "1      yeşil     1         49.00         49.00  Henüz fatura kesilmemiştir.  \n",
      "2      yeşil     2         59.00        118.00  Henüz fatura kesilmemiştir.  \n",
      "3        NaN     1         33.33         33.33  Henüz fatura kesilmemiştir.  \n",
      "4   Günışığı     1         83.00         83.00  Henüz fatura kesilmemiştir.  \n"
     ]
    }
   ],
   "execution_count": 5
  },
  {
   "metadata": {},
   "cell_type": "code",
   "outputs": [],
   "execution_count": null,
   "source": "#Clustering by hand",
   "id": "14e35f200309cdb0"
  },
  {
   "metadata": {
    "ExecuteTime": {
     "end_time": "2024-12-18T10:59:53.664075Z",
     "start_time": "2024-12-18T10:59:53.659331Z"
    }
   },
   "cell_type": "code",
   "source": [
    "cluster_mapping = {\n",
    "    \"Teslim edilemeyen gönderi\": 3,\n",
    "    \"Bedeni/Ebatı Küçük Geldi\": 1,\n",
    "    \"Kalitesini beğenmedim\": 2,\n",
    "    \"Modelini beğenmedim\": 1,\n",
    "    \"Vazgeçtim\": 1,\n",
    "    \"Yanlış sipariş verdim\": 1,\n",
    "    \"Kusurlu ürün gönderildi\": 2,\n",
    "    \"Tazmin\": 2,\n",
    "    \"Bedeni/Ebatı Büyük Geldi\": 1,\n",
    "    \"Ürün ile Görsel & içerik bilgisi uyuşmuyor\": 2,\n",
    "    \"Diğer\": 3,\n",
    "    \"Eksik Ürün\": 2,\n",
    "    \"Kargo Teslimatı Gecikmesi\": 3,\n",
    "    \"Daha iyi bir fiyat mevcut\": 1,\n",
    "    \"Yanlış ürün gönderildi\": 2\n",
    "}\n",
    "df_clean['Cluster'] = df_clean['İade Sebebi'].map(cluster_mapping)\n",
    "\n",
    "print(\"\\nCluster Value Counts:\")\n",
    "print(df_clean['Cluster'].value_counts())"
   ],
   "id": "7db7997f135e4d72",
   "outputs": [
    {
     "name": "stdout",
     "output_type": "stream",
     "text": [
      "\n",
      "Cluster Value Counts:\n",
      "Cluster\n",
      "1    84\n",
      "3    59\n",
      "2    40\n",
      "Name: count, dtype: int64\n"
     ]
    }
   ],
   "execution_count": 6
  },
  {
   "metadata": {
    "ExecuteTime": {
     "end_time": "2024-12-18T11:00:43.902718Z",
     "start_time": "2024-12-18T11:00:43.830763Z"
    }
   },
   "cell_type": "code",
   "source": [
    "import seaborn as sns\n",
    "import matplotlib.pyplot as plt\n",
    "\n",
    "plt.figure(figsize=(8, 6))\n",
    "sns.countplot(x='Cluster', data=df_clean, palette='viridis')\n",
    "\n",
    "plt.title('Distribution of Return Reasons by Cluster')\n",
    "plt.xlabel('Cluster Group')\n",
    "plt.ylabel('Count of Return Reasons')\n",
    "\n",
    "plt.show()"
   ],
   "id": "bdfcc29df46f07ef",
   "outputs": [
    {
     "name": "stderr",
     "output_type": "stream",
     "text": [
      "C:\\Users\\berka\\AppData\\Local\\Temp\\ipykernel_5220\\2904934504.py:5: FutureWarning: \n",
      "\n",
      "Passing `palette` without assigning `hue` is deprecated and will be removed in v0.14.0. Assign the `x` variable to `hue` and set `legend=False` for the same effect.\n",
      "\n",
      "  sns.countplot(x='Cluster', data=df_clean, palette='viridis')\n"
     ]
    },
    {
     "data": {
      "text/plain": [
       "<Figure size 800x600 with 1 Axes>"
      ],
      "image/png": "[encoded data removed]"
     },
     "metadata": {},
     "output_type": "display_data"
    }
   ],
   "execution_count": 10
  },
  {
   "metadata": {},
   "cell_type": "code",
   "outputs": [],
   "execution_count": null,
   "source": "#Clustering by AI",
   "id": "9f6f48835754e"
  },
  {
   "metadata": {
    "ExecuteTime": {
     "end_time": "2024-12-18T11:00:53.249265Z",
     "start_time": "2024-12-18T11:00:53.243884Z"
    }
   },
   "cell_type": "code",
   "source": [
    "translation_dict = {\n",
    "    \"Teslim edilemeyen gönderi\": \"Undelivered package\",\n",
    "    \"Bedeni/Ebatı Küçük Geldi\": \"Size too small\",\n",
    "    \"Kalitesini beğenmedim\": \"Didn't like the quality\",\n",
    "    \"Modelini beğenmedim\": \"Didn't like the model\",\n",
    "    \"Vazgeçtim\": \"Changed my mind\",\n",
    "    \"Yanlış sipariş verdim\": \"Ordered wrong item\",\n",
    "    \"Kusurlu ürün gönderildi\": \"Defective product sent\",\n",
    "    \"Tazmin\": \"Compensation\",\n",
    "    \"Bedeni/Ebatı Büyük Geldi\": \"Size too big\",\n",
    "    \"Ürün ile Görsel & içerik bilgisi uyuşmuyor\": \"Mismatch with product description\",\n",
    "    \"Diğer\": \"Other\",\n",
    "    \"Eksik Ürün\": \"Missing product\",\n",
    "    \"Kargo Teslimatı Gecikmesi\": \"Delivery delay\",\n",
    "    \"Daha iyi bir fiyat mevcut\": \"Found a better price\",\n",
    "    \"Yanlış ürün gönderildi\": \"Wrong product sent\"\n",
    "}\n",
    "\n",
    "df_clean['Return Reason English'] = df_clean['İade Sebebi'].map(translation_dict)\n",
    "\n",
    "print(\"\\nTranslated Return Reasons:\")\n",
    "print(df_clean[['İade Sebebi', 'Return Reason English']].drop_duplicates())"
   ],
   "id": "1ae4d64e30ceffa8",
   "outputs": [
    {
     "name": "stdout",
     "output_type": "stream",
     "text": [
      "\n",
      "Translated Return Reasons:\n",
      "                                    İade Sebebi  \\\n",
      "0                         Kalitesini beğenmedim   \n",
      "1                     Teslim edilemeyen gönderi   \n",
      "2                                         Diğer   \n",
      "3                      Bedeni/Ebatı Küçük Geldi   \n",
      "5                           Modelini beğenmedim   \n",
      "9                                    Eksik Ürün   \n",
      "12                                    Vazgeçtim   \n",
      "16                      Kusurlu ürün gönderildi   \n",
      "24   Ürün ile Görsel & içerik bilgisi uyuşmuyor   \n",
      "28                        Yanlış sipariş verdim   \n",
      "71                                       Tazmin   \n",
      "72                     Bedeni/Ebatı Büyük Geldi   \n",
      "120                   Kargo Teslimatı Gecikmesi   \n",
      "148                   Daha iyi bir fiyat mevcut   \n",
      "163                      Yanlış ürün gönderildi   \n",
      "\n",
      "                 Return Reason English  \n",
      "0              Didn't like the quality  \n",
      "1                  Undelivered package  \n",
      "2                                Other  \n",
      "3                       Size too small  \n",
      "5                Didn't like the model  \n",
      "9                      Missing product  \n",
      "12                     Changed my mind  \n",
      "16              Defective product sent  \n",
      "24   Mismatch with product description  \n",
      "28                  Ordered wrong item  \n",
      "71                        Compensation  \n",
      "72                        Size too big  \n",
      "120                     Delivery delay  \n",
      "148               Found a better price  \n",
      "163                 Wrong product sent  \n"
     ]
    }
   ],
   "execution_count": 11
  },
  {
   "metadata": {
    "ExecuteTime": {
     "end_time": "2024-12-18T11:01:23.544192Z",
     "start_time": "2024-12-18T11:01:23.538361Z"
    }
   },
   "cell_type": "code",
   "source": [
    "from sklearn.feature_extraction.text import TfidfVectorizer\n",
    "\n",
    "tfidf = TfidfVectorizer(max_features=100, stop_words='english') \n",
    "X_tfidf = tfidf.fit_transform(df_clean['Return Reason English'])\n",
    "\n",
    "print(\"\\nTF-IDF Matrix Shape:\", X_tfidf.shape)\n",
    "print(\"Top 10 terms from TF-IDF:\")\n",
    "print(tfidf.get_feature_names_out()[:10])"
   ],
   "id": "f1d8786e559d9811",
   "outputs": [
    {
     "name": "stdout",
     "output_type": "stream",
     "text": [
      "\n",
      "TF-IDF Matrix Shape: (183, 25)\n",
      "Top 10 terms from TF-IDF:\n",
      "['better' 'big' 'changed' 'compensation' 'defective' 'delay' 'delivery'\n",
      " 'description' 'didn' 'item']\n"
     ]
    }
   ],
   "execution_count": 12
  },
  {
   "metadata": {
    "ExecuteTime": {
     "end_time": "2024-12-18T11:01:34.911322Z",
     "start_time": "2024-12-18T11:01:34.199850Z"
    }
   },
   "cell_type": "code",
   "source": [
    "from sklearn.cluster import KMeans\n",
    "import matplotlib.pyplot as plt\n",
    "\n",
    "inertia = []\n",
    "k_range = range(2, 11)\n",
    "\n",
    "for k in k_range:\n",
    "    kmeans = KMeans(n_clusters=k, random_state=42, n_init=10)\n",
    "    kmeans.fit(X_tfidf)\n",
    "    inertia.append(kmeans.inertia_)\n",
    "\n",
    "plt.figure(figsize=(8, 5))\n",
    "plt.plot(k_range, inertia, marker='o')\n",
    "plt.title(\"Elbow Method for Optimal k\")\n",
    "plt.xlabel(\"Number of Clusters (k)\")\n",
    "plt.ylabel(\"Inertia\")\n",
    "plt.show()"
   ],
   "id": "7699fcaaa992b19e",
   "outputs": [
    {
     "data": {
      "text/plain": [
       "<Figure size 800x500 with 1 Axes>"
      ],
      "image/png": "[encoded data removed]"
     },
     "metadata": {},
     "output_type": "display_data"
    }
   ],
   "execution_count": 13
  },
  {
   "metadata": {
    "ExecuteTime": {
     "end_time": "2024-12-18T11:06:38.160277Z",
     "start_time": "2024-12-18T11:06:38.116835Z"
    }
   },
   "cell_type": "code",
   "source": [
    "optimal_k = 3\n",
    "\n",
    "kmeans = KMeans(n_clusters=optimal_k, random_state=42, n_init=10)\n",
    "df_clean['Cluster_KMeans'] = kmeans.fit_predict(X_tfidf)\n",
    "\n",
    "print(\"\\nReturn Reason and Assigned Cluster:\")\n",
    "print(df_clean[['Return Reason English', 'Cluster_KMeans']].drop_duplicates())\n",
    "\n",
    "print(\"\\nCluster Value Counts:\")\n",
    "cluster_counts = df_clean['Cluster_KMeans'].value_counts().sort_index()\n",
    "for cluster, count in cluster_counts.items():\n",
    "    print(f\"Cluster {cluster}: {count} entries\")"
   ],
   "id": "21c5411506d1ebd2",
   "outputs": [
    {
     "name": "stdout",
     "output_type": "stream",
     "text": [
      "\n",
      "Return Reason and Assigned Cluster:\n",
      "                 Return Reason English  Cluster_KMeans\n",
      "0              Didn't like the quality               1\n",
      "1                  Undelivered package               0\n",
      "2                                Other               0\n",
      "3                       Size too small               2\n",
      "5                Didn't like the model               1\n",
      "9                      Missing product               0\n",
      "12                     Changed my mind               0\n",
      "16              Defective product sent               0\n",
      "24   Mismatch with product description               0\n",
      "28                  Ordered wrong item               0\n",
      "71                        Compensation               0\n",
      "72                        Size too big               2\n",
      "120                     Delivery delay               0\n",
      "148               Found a better price               0\n",
      "163                 Wrong product sent               0\n",
      "\n",
      "Cluster Value Counts:\n",
      "Cluster 0: 102 entries\n",
      "Cluster 1: 50 entries\n",
      "Cluster 2: 31 entries\n"
     ]
    }
   ],
   "execution_count": 23
  },
  {
   "metadata": {
    "ExecuteTime": {
     "end_time": "2024-12-18T11:04:26.818281Z",
     "start_time": "2024-12-18T11:04:26.754233Z"
    }
   },
   "cell_type": "code",
   "source": [
    "import seaborn as sns\n",
    "\n",
    "plt.figure(figsize=(8, 6))\n",
    "sns.countplot(x='Cluster_KMeans', data=df_clean, palette='viridis')\n",
    "\n",
    "plt.title(\"Distribution of Return Reasons by Cluster\")\n",
    "plt.xlabel(\"Cluster Group\")\n",
    "plt.ylabel(\"Count of Return Reasons\")\n",
    "plt.xticks(ticks=[0, 1, 2], labels=[f\"Cluster {i+1}\" for i in range(optimal_k)])\n",
    "plt.show()\n"
   ],
   "id": "aaa603b5cf9dbda6",
   "outputs": [
    {
     "name": "stderr",
     "output_type": "stream",
     "text": [
      "C:\\Users\\berka\\AppData\\Local\\Temp\\ipykernel_5220\\1322062677.py:5: FutureWarning: \n",
      "\n",
      "Passing `palette` without assigning `hue` is deprecated and will be removed in v0.14.0. Assign the `x` variable to `hue` and set `legend=False` for the same effect.\n",
      "\n",
      "  sns.countplot(x='Cluster_KMeans', data=df_clean, palette='viridis')\n"
     ]
    },
    {
     "data": {
      "text/plain": [
       "<Figure size 800x600 with 1 Axes>"
      ],
      "image/png": "[encoded data removed]"
     },
     "metadata": {},
     "output_type": "display_data"
    }
   ],
   "execution_count": 19
  },
  {
   "metadata": {
    "ExecuteTime": {
     "end_time": "2024-12-18T11:04:43.351441Z",
     "start_time": "2024-12-18T11:04:43.346314Z"
    }
   },
   "cell_type": "code",
   "source": [
    "ai_clusters = {1: 102, 2: 50, 3: 31}\n",
    "manual_clusters = {1: 84, 2: 40, 3: 59}\n",
    "\n",
    "total_ai = 0\n",
    "total_manual = 0\n",
    "total_abs_error = 0\n",
    "\n",
    "print(\"Cluster Deviations:\")\n",
    "for cluster in sorted(ai_clusters.keys()):\n",
    "    ai_count = ai_clusters[cluster]\n",
    "    manual_count = manual_clusters[cluster]\n",
    "    difference = ai_count - manual_count\n",
    "    percentage_diff = (difference / manual_count) * 100  \n",
    "    \n",
    "    print(f\"Cluster {cluster}: AI = {ai_count}, Manual = {manual_count}, \"\n",
    "          f\"Difference = {difference}, Deviation = {percentage_diff:.2f}%\")\n",
    "    \n",
    "    total_ai += ai_count\n",
    "    total_manual += manual_count\n",
    "    total_abs_error += abs(difference)\n",
    "\n",
    "overall_error_percentage = (total_abs_error / total_manual) * 100\n",
    "\n",
    "print(\"\\nOverall Error Percentage:\")\n",
    "print(f\"Total AI Count = {total_ai}, Total Manual Count = {total_manual}\")\n",
    "print(f\"Overall Absolute Error = {total_abs_error}, Error Percentage = {overall_error_percentage:.2f}%\")"
   ],
   "id": "6196788d6d41a52f",
   "outputs": [
    {
     "name": "stdout",
     "output_type": "stream",
     "text": [
      "Cluster Deviations:\n",
      "Cluster 1: AI = 102, Manual = 84, Difference = 18, Deviation = 21.43%\n",
      "Cluster 2: AI = 50, Manual = 40, Difference = 10, Deviation = 25.00%\n",
      "Cluster 3: AI = 31, Manual = 59, Difference = -28, Deviation = -47.46%\n",
      "\n",
      "Overall Error Percentage:\n",
      "Total AI Count = 183, Total Manual Count = 183\n",
      "Overall Absolute Error = 56, Error Percentage = 30.60%\n"
     ]
    }
   ],
   "execution_count": 20
  },
  {
   "metadata": {
    "ExecuteTime": {
     "end_time": "2024-12-18T11:15:44.185279Z",
     "start_time": "2024-12-18T11:15:44.140067Z"
    }
   },
   "cell_type": "code",
   "source": [
    "from sklearn.cluster import SpectralClustering\n",
    "from sklearn.feature_extraction.text import TfidfVectorizer\n",
    "\n",
    "tfidf = TfidfVectorizer(stop_words='english')\n",
    "X_tfidf = tfidf.fit_transform(df_clean['Return Reason English'])\n",
    "\n",
    "spectral = SpectralClustering(n_clusters=4, affinity='cosine', random_state=42)\n",
    "df_clean['Cluster_Spectral'] = spectral.fit_predict(X_tfidf)\n",
    "\n",
    "print(\"\\nSpectral Clustering Results:\")\n",
    "print(df_clean[['Return Reason English', 'Cluster_Spectral']].drop_duplicates())\n"
   ],
   "id": "a554af2387d96f2a",
   "outputs": [
    {
     "name": "stdout",
     "output_type": "stream",
     "text": [
      "\n",
      "Spectral Clustering Results:\n",
      "                 Return Reason English  Cluster_Spectral\n",
      "0              Didn't like the quality                 3\n",
      "1                  Undelivered package                 0\n",
      "2                                Other                 0\n",
      "3                       Size too small                 0\n",
      "5                Didn't like the model                 3\n",
      "9                      Missing product                 2\n",
      "12                     Changed my mind                 3\n",
      "16              Defective product sent                 2\n",
      "24   Mismatch with product description                 2\n",
      "28                  Ordered wrong item                 2\n",
      "71                        Compensation                 1\n",
      "72                        Size too big                 0\n",
      "120                     Delivery delay                 0\n",
      "148               Found a better price                 0\n",
      "163                 Wrong product sent                 2\n"
     ]
    },
    {
     "name": "stderr",
     "output_type": "stream",
     "text": [
      "C:\\Users\\berka\\ss\\return analysis\\.venv\\Lib\\site-packages\\sklearn\\manifold\\_spectral_embedding.py:329: UserWarning: Graph is not fully connected, spectral embedding may not work as expected.\n",
      "  warnings.warn(\n"
     ]
    }
   ],
   "execution_count": 33
  },
  {
   "metadata": {
    "ExecuteTime": {
     "end_time": "2024-12-18T11:20:43.497171Z",
     "start_time": "2024-12-18T11:20:43.430035Z"
    }
   },
   "cell_type": "code",
   "source": [
    "import matplotlib.pyplot as plt\n",
    "import seaborn as sns\n",
    "\n",
    "cluster_counts = df_clean['Cluster_Spectral'].value_counts().sort_index()\n",
    "\n",
    "plt.figure(figsize=(8, 6))\n",
    "sns.barplot(x=cluster_counts.index, y=cluster_counts.values, palette='Set2')\n",
    "\n",
    "plt.title('Number of Returns in Each Cluster', fontsize=16)\n",
    "plt.xlabel('Cluster', fontsize=12)\n",
    "plt.ylabel('Number of Returns', fontsize=12)\n",
    "plt.xticks(cluster_counts.index) \n",
    "plt.show()\n"
   ],
   "id": "41547a5f9b68c5d3",
   "outputs": [
    {
     "name": "stderr",
     "output_type": "stream",
     "text": [
      "C:\\Users\\berka\\AppData\\Local\\Temp\\ipykernel_5220\\1073715166.py:9: FutureWarning: \n",
      "\n",
      "Passing `palette` without assigning `hue` is deprecated and will be removed in v0.14.0. Assign the `x` variable to `hue` and set `legend=False` for the same effect.\n",
      "\n",
      "  sns.barplot(x=cluster_counts.index, y=cluster_counts.values, palette='Set2')\n"
     ]
    },
    {
     "data": {
      "text/plain": [
       "<Figure size 800x600 with 1 Axes>"
      ],
      "image/png": "[encoded data removed]"
     },
     "metadata": {},
     "output_type": "display_data"
    }
   ],
   "execution_count": 36
  }
 ],
 "metadata": {
  "kernelspec": {
   "display_name": "Python 3",
   "language": "python",
   "name": "python3"
  },
  "language_info": {
   "codemirror_mode": {
    "name": "ipython",
    "version": 2
   },
   "file_extension": ".py",
   "mimetype": "text/x-python",
   "name": "python",
   "nbconvert_exporter": "python",
   "pygments_lexer": "ipython2",
   "version": "2.7.6"
  }
 },
 "nbformat": 4,
 "nbformat_minor": 5
}
