{
 "cells": [
  {
   "cell_type": "code",
   "id": "initial_id",
   "metadata": {
    "collapsed": true,
    "ExecuteTime": {
     "end_time": "2025-01-04T09:42:43.223684Z",
     "start_time": "2025-01-04T09:42:41.734992Z"
    }
   },
   "source": [
    "import pandas as pd\n",
    "from sklearn.model_selection import train_test_split\n",
    "from sklearn.ensemble import RandomForestRegressor\n",
    "from sklearn.metrics import mean_absolute_error, mean_squared_error\n",
    "\n",
    "file_path = \"month5_cleaned.xlsx\"\n",
    "df = pd.read_excel(file_path)\n",
    "\n",
    "print(\"Dataset loaded successfully. Here are the first few rows:\")\n",
    "print(df.head())"
   ],
   "outputs": [
    {
     "name": "stdout",
     "output_type": "stream",
     "text": [
      "Dataset loaded successfully. Here are the first few rows:\n",
      "                  Kargo Firmasi      Siparis Tarihi          Alici  \\\n",
      "0  Trendyol Express Marketplace 2024-05-01 00:00:00  DAMLA ALTUNOK   \n",
      "1  Trendyol Express Marketplace 2024-05-01 00:00:00  DAMLA ALTUNOK   \n",
      "2  Trendyol Express Marketplace 2024-05-01 00:02:00     Gonul Erdi   \n",
      "3  Trendyol Express Marketplace 2024-05-01 00:02:00    cihan cetin   \n",
      "4  Trendyol Express Marketplace 2024-05-01 00:03:00     Esra Artan   \n",
      "\n",
      "           il      ilce                                           Urun Adi  \\\n",
      "0    Istanbul   Avcilar  7 Metre Tel Yaprak Serit Yapay Tac Sarmasik Ci...   \n",
      "1    Istanbul   Avcilar  230 Cm Large Yaprak Yapay Hedera Helix Sarmasi...   \n",
      "2       Izmir   Torbali  7 Metre Tel Yaprak Serit Yapay Tac Sarmasik Ci...   \n",
      "3  Kirklareli  Babaeski  Dekoratif Yesil Yaprakli Yapay Sarmasik Ve 3 M...   \n",
      "4      Manisa   Salihli  7 Metre Tel Yaprak Serit Yapay Tac Sarmasik Ci...   \n",
      "\n",
      "           Marka  Adet  Birim Fiyat  Satis Tutari Müsteri Siparis Adedi  \\\n",
      "0         Unikum     3         54.0         162.0             1.Siparis   \n",
      "1  BIRCOK HEDIYE     2         30.0          60.0             1.Siparis   \n",
      "2         Unikum     1         54.0          54.0             1.Siparis   \n",
      "3    casadilegno     2         39.0          78.0             1.Siparis   \n",
      "4         Unikum     2         54.0         108.0             2.Siparis   \n",
      "\n",
      "     Yas       Cinsiyet  \n",
      "0  21-30          Kadin  \n",
      "1  21-30          Kadin  \n",
      "2    NaN  Belirtilmemis  \n",
      "3  21-30          Kadin  \n",
      "4    NaN          Kadin  \n"
     ]
    }
   ],
   "execution_count": 7
  },
  {
   "metadata": {
    "ExecuteTime": {
     "end_time": "2025-01-04T09:42:50.892847Z",
     "start_time": "2025-01-04T09:42:50.874796Z"
    }
   },
   "cell_type": "code",
   "source": [
    "print(\"Checking for missing values:\")\n",
    "print(df.isnull().sum())\n",
    "\n",
    "df.dropna(inplace=True)\n",
    "\n",
    "print(\"\\nChecking data types:\")\n",
    "print(df.dtypes)\n",
    "\n",
    "#'Cinsiyet' column (Male = 0, Female = 1)\n",
    "df['Cinsiyet'] = df['Cinsiyet'].map({'Belirtilmemis': 0, 'Erkek': 1, 'Kadin': 2})\n",
    "\n",
    "print(\"\\nData after preprocessing:\")\n",
    "print(df.head())"
   ],
   "id": "7d94bd43de33f566",
   "outputs": [
    {
     "name": "stdout",
     "output_type": "stream",
     "text": [
      "Checking for missing values:\n",
      "Kargo Firmasi                0\n",
      "Siparis Tarihi               0\n",
      "Alici                        0\n",
      "il                           0\n",
      "ilce                         0\n",
      "Urun Adi                     0\n",
      "Marka                        0\n",
      "Adet                         0\n",
      "Birim Fiyat                  0\n",
      "Satis Tutari                 0\n",
      "Müsteri Siparis Adedi        0\n",
      "Yas                      11783\n",
      "Cinsiyet                     0\n",
      "dtype: int64\n",
      "\n",
      "Checking data types:\n",
      "Kargo Firmasi                    object\n",
      "Siparis Tarihi           datetime64[ns]\n",
      "Alici                            object\n",
      "il                               object\n",
      "ilce                             object\n",
      "Urun Adi                         object\n",
      "Marka                            object\n",
      "Adet                              int64\n",
      "Birim Fiyat                     float64\n",
      "Satis Tutari                    float64\n",
      "Müsteri Siparis Adedi            object\n",
      "Yas                              object\n",
      "Cinsiyet                         object\n",
      "dtype: object\n",
      "\n",
      "Data after preprocessing:\n",
      "                  Kargo Firmasi      Siparis Tarihi            Alici  \\\n",
      "0  Trendyol Express Marketplace 2024-05-01 00:00:00    DAMLA ALTUNOK   \n",
      "1  Trendyol Express Marketplace 2024-05-01 00:00:00    DAMLA ALTUNOK   \n",
      "3  Trendyol Express Marketplace 2024-05-01 00:02:00      cihan cetin   \n",
      "6  Trendyol Express Marketplace 2024-05-01 00:05:00  Sovket Adibelli   \n",
      "7  Trendyol Express Marketplace 2024-05-01 00:06:00  Kubra Yildizhan   \n",
      "\n",
      "           il         ilce                                           Urun Adi  \\\n",
      "0    Istanbul      Avcilar  7 Metre Tel Yaprak Serit Yapay Tac Sarmasik Ci...   \n",
      "1    Istanbul      Avcilar  230 Cm Large Yaprak Yapay Hedera Helix Sarmasi...   \n",
      "3  Kirklareli     Babaeski  Dekoratif Yesil Yaprakli Yapay Sarmasik Ve 3 M...   \n",
      "6      Ankara      Cankaya  Dekoratif Yesil Yaprakli Yapay Sarmasik Ve 3 M...   \n",
      "7    Istanbul  Zeytinburnu  7.5 Metre Tel Yaprak Serit Yapay Tac Sarmasik ...   \n",
      "\n",
      "            Marka  Adet  Birim Fiyat  Satis Tutari Müsteri Siparis Adedi  \\\n",
      "0          Unikum     3         54.0         162.0             1.Siparis   \n",
      "1   BIRCOK HEDIYE     2         30.0          60.0             1.Siparis   \n",
      "3     casadilegno     2         39.0          78.0             1.Siparis   \n",
      "6     casadilegno     1         39.0          39.0             1.Siparis   \n",
      "7  Prestij Boncuk     1         54.0          54.0             1.Siparis   \n",
      "\n",
      "     Yas  Cinsiyet  \n",
      "0  21-30         2  \n",
      "1  21-30         2  \n",
      "3  21-30         2  \n",
      "6  41-50         2  \n",
      "7    71+         2  \n"
     ]
    }
   ],
   "execution_count": 8
  },
  {
   "metadata": {
    "ExecuteTime": {
     "end_time": "2025-01-04T09:42:53.518059Z",
     "start_time": "2025-01-04T09:42:53.514236Z"
    }
   },
   "cell_type": "code",
   "source": [
    "# Unique values in 'Cinsiyet' column\n",
    "print(\"Unique values in 'Cinsiyet':\")\n",
    "print(df['Cinsiyet'].unique())\n",
    "\n",
    "# Unique values in 'Yas' column\n",
    "print(\"\\nUnique values in 'Yas':\")\n",
    "print(df['Yas'].unique())\n"
   ],
   "id": "5fc9e6e304e51755",
   "outputs": [
    {
     "name": "stdout",
     "output_type": "stream",
     "text": [
      "Unique values in 'Cinsiyet':\n",
      "[2 1 0]\n",
      "\n",
      "Unique values in 'Yas':\n",
      "['21-30' '41-50' '71+' '0-20' '31-40' '51-60' '61-70']\n"
     ]
    }
   ],
   "execution_count": 9
  },
  {
   "metadata": {
    "ExecuteTime": {
     "end_time": "2025-01-04T09:43:31.600007Z",
     "start_time": "2025-01-04T09:43:31.590621Z"
    }
   },
   "cell_type": "code",
   "source": [
    "age_mapping = {\n",
    "    '0-20': 0,\n",
    "    '21-30': 1,\n",
    "    '31-40': 2,\n",
    "    '41-50': 3,\n",
    "    '51-60': 4,\n",
    "    '61-70': 5,\n",
    "    '71+': 6\n",
    "}\n",
    "df['Yas'] = df['Yas'].map(age_mapping)\n",
    "\n",
    "print(\"\\nData after converting 'Yas' to numerical values:\")\n",
    "print(df.head())"
   ],
   "id": "bf706e06055c4134",
   "outputs": [
    {
     "name": "stdout",
     "output_type": "stream",
     "text": [
      "\n",
      "Data after converting 'Yas' to numerical values:\n",
      "                  Kargo Firmasi      Siparis Tarihi            Alici  \\\n",
      "0  Trendyol Express Marketplace 2024-05-01 00:00:00    DAMLA ALTUNOK   \n",
      "1  Trendyol Express Marketplace 2024-05-01 00:00:00    DAMLA ALTUNOK   \n",
      "3  Trendyol Express Marketplace 2024-05-01 00:02:00      cihan cetin   \n",
      "6  Trendyol Express Marketplace 2024-05-01 00:05:00  Sovket Adibelli   \n",
      "7  Trendyol Express Marketplace 2024-05-01 00:06:00  Kubra Yildizhan   \n",
      "\n",
      "           il         ilce                                           Urun Adi  \\\n",
      "0    Istanbul      Avcilar  7 Metre Tel Yaprak Serit Yapay Tac Sarmasik Ci...   \n",
      "1    Istanbul      Avcilar  230 Cm Large Yaprak Yapay Hedera Helix Sarmasi...   \n",
      "3  Kirklareli     Babaeski  Dekoratif Yesil Yaprakli Yapay Sarmasik Ve 3 M...   \n",
      "6      Ankara      Cankaya  Dekoratif Yesil Yaprakli Yapay Sarmasik Ve 3 M...   \n",
      "7    Istanbul  Zeytinburnu  7.5 Metre Tel Yaprak Serit Yapay Tac Sarmasik ...   \n",
      "\n",
      "            Marka  Adet  Birim Fiyat  Satis Tutari Müsteri Siparis Adedi  Yas  \\\n",
      "0          Unikum     3         54.0         162.0             1.Siparis    1   \n",
      "1   BIRCOK HEDIYE     2         30.0          60.0             1.Siparis    1   \n",
      "3     casadilegno     2         39.0          78.0             1.Siparis    1   \n",
      "6     casadilegno     1         39.0          39.0             1.Siparis    3   \n",
      "7  Prestij Boncuk     1         54.0          54.0             1.Siparis    6   \n",
      "\n",
      "   Cinsiyet  \n",
      "0         2  \n",
      "1         2  \n",
      "3         2  \n",
      "6         2  \n",
      "7         2  \n"
     ]
    }
   ],
   "execution_count": 10
  },
  {
   "metadata": {
    "ExecuteTime": {
     "end_time": "2024-12-03T10:05:07.775920Z",
     "start_time": "2024-12-03T10:05:07.639686Z"
    }
   },
   "cell_type": "code",
   "source": "\n",
   "id": "f98e3653e5300c02",
   "outputs": [
    {
     "data": {
      "text/plain": [
       "               shipping_company          order_date      city        brand  \\\n",
       "0  Trendyol Express Marketplace 2024-01-01 00:01:00   Kocaeli       Unikum   \n",
       "1  Trendyol Express Marketplace 2024-01-01 00:04:00  İstanbul        Çiçek   \n",
       "2         PTT Kargo Marketplace 2024-01-01 00:07:00     Kilis  casadilegno   \n",
       "3         PTT Kargo Marketplace 2024-01-01 00:07:00     Kilis     RDT Shop   \n",
       "4  Trendyol Express Marketplace 2024-01-01 00:14:00  İstanbul    BizimModa   \n",
       "\n",
       "  company_order customer_order_count      age            sex age_group  \\\n",
       "0         Hayır            1.Sipariş  Unknown  Not Specified   Unknown   \n",
       "1         Hayır            1.Sipariş  Unknown  Not Specified   Unknown   \n",
       "2         Hayır            1.Sipariş  Unknown  Not Specified   Unknown   \n",
       "3         Hayır            1.Sipariş  Unknown  Not Specified   Unknown   \n",
       "4         Hayır            2.Sipariş  Unknown  Not Specified   Unknown   \n",
       "\n",
       "   age_group_0-20  age_group_21-30  age_group_31-40  age_group_41-50  \\\n",
       "0             0.0              0.0              0.0              0.0   \n",
       "1             0.0              0.0              0.0              0.0   \n",
       "2             0.0              0.0              0.0              0.0   \n",
       "3             0.0              0.0              0.0              0.0   \n",
       "4             0.0              0.0              0.0              0.0   \n",
       "\n",
       "   age_group_51-60  age_group_61-70  age_group_71+  age_group_Unknown  \\\n",
       "0              0.0              0.0            0.0                1.0   \n",
       "1              0.0              0.0            0.0                1.0   \n",
       "2              0.0              0.0            0.0                1.0   \n",
       "3              0.0              0.0            0.0                1.0   \n",
       "4              0.0              0.0            0.0                1.0   \n",
       "\n",
       "   sex_Female  sex_Male  sex_Not Specified  \n",
       "0         0.0       0.0                1.0  \n",
       "1         0.0       0.0                1.0  \n",
       "2         0.0       0.0                1.0  \n",
       "3         0.0       0.0                1.0  \n",
       "4         0.0       0.0                1.0  "
      ],
      "text/html": [
       "<div>\n",
       "<style scoped>\n",
       "    .dataframe tbody tr th:only-of-type {\n",
       "        vertical-align: middle;\n",
       "    }\n",
       "\n",
       "    .dataframe tbody tr th {\n",
       "        vertical-align: top;\n",
       "    }\n",
       "\n",
       "    .dataframe thead th {\n",
       "        text-align: right;\n",
       "    }\n",
       "</style>\n",
       "<table border=\"1\" class=\"dataframe\">\n",
       "  <thead>\n",
       "    <tr style=\"text-align: right;\">\n",
       "      <th></th>\n",
       "      <th>shipping_company</th>\n",
       "      <th>order_date</th>\n",
       "      <th>city</th>\n",
       "      <th>brand</th>\n",
       "      <th>company_order</th>\n",
       "      <th>customer_order_count</th>\n",
       "      <th>age</th>\n",
       "      <th>sex</th>\n",
       "      <th>age_group</th>\n",
       "      <th>age_group_0-20</th>\n",
       "      <th>age_group_21-30</th>\n",
       "      <th>age_group_31-40</th>\n",
       "      <th>age_group_41-50</th>\n",
       "      <th>age_group_51-60</th>\n",
       "      <th>age_group_61-70</th>\n",
       "      <th>age_group_71+</th>\n",
       "      <th>age_group_Unknown</th>\n",
       "      <th>sex_Female</th>\n",
       "      <th>sex_Male</th>\n",
       "      <th>sex_Not Specified</th>\n",
       "    </tr>\n",
       "  </thead>\n",
       "  <tbody>\n",
       "    <tr>\n",
       "      <th>0</th>\n",
       "      <td>Trendyol Express Marketplace</td>\n",
       "      <td>2024-01-01 00:01:00</td>\n",
       "      <td>Kocaeli</td>\n",
       "      <td>Unikum</td>\n",
       "      <td>Hayır</td>\n",
       "      <td>1.Sipariş</td>\n",
       "      <td>Unknown</td>\n",
       "      <td>Not Specified</td>\n",
       "      <td>Unknown</td>\n",
       "      <td>0.0</td>\n",
       "      <td>0.0</td>\n",
       "      <td>0.0</td>\n",
       "      <td>0.0</td>\n",
       "      <td>0.0</td>\n",
       "      <td>0.0</td>\n",
       "      <td>0.0</td>\n",
       "      <td>1.0</td>\n",
       "      <td>0.0</td>\n",
       "      <td>0.0</td>\n",
       "      <td>1.0</td>\n",
       "    </tr>\n",
       "    <tr>\n",
       "      <th>1</th>\n",
       "      <td>Trendyol Express Marketplace</td>\n",
       "      <td>2024-01-01 00:04:00</td>\n",
       "      <td>İstanbul</td>\n",
       "      <td>Çiçek</td>\n",
       "      <td>Hayır</td>\n",
       "      <td>1.Sipariş</td>\n",
       "      <td>Unknown</td>\n",
       "      <td>Not Specified</td>\n",
       "      <td>Unknown</td>\n",
       "      <td>0.0</td>\n",
       "      <td>0.0</td>\n",
       "      <td>0.0</td>\n",
       "      <td>0.0</td>\n",
       "      <td>0.0</td>\n",
       "      <td>0.0</td>\n",
       "      <td>0.0</td>\n",
       "      <td>1.0</td>\n",
       "      <td>0.0</td>\n",
       "      <td>0.0</td>\n",
       "      <td>1.0</td>\n",
       "    </tr>\n",
       "    <tr>\n",
       "      <th>2</th>\n",
       "      <td>PTT Kargo Marketplace</td>\n",
       "      <td>2024-01-01 00:07:00</td>\n",
       "      <td>Kilis</td>\n",
       "      <td>casadilegno</td>\n",
       "      <td>Hayır</td>\n",
       "      <td>1.Sipariş</td>\n",
       "      <td>Unknown</td>\n",
       "      <td>Not Specified</td>\n",
       "      <td>Unknown</td>\n",
       "      <td>0.0</td>\n",
       "      <td>0.0</td>\n",
       "      <td>0.0</td>\n",
       "      <td>0.0</td>\n",
       "      <td>0.0</td>\n",
       "      <td>0.0</td>\n",
       "      <td>0.0</td>\n",
       "      <td>1.0</td>\n",
       "      <td>0.0</td>\n",
       "      <td>0.0</td>\n",
       "      <td>1.0</td>\n",
       "    </tr>\n",
       "    <tr>\n",
       "      <th>3</th>\n",
       "      <td>PTT Kargo Marketplace</td>\n",
       "      <td>2024-01-01 00:07:00</td>\n",
       "      <td>Kilis</td>\n",
       "      <td>RDT Shop</td>\n",
       "      <td>Hayır</td>\n",
       "      <td>1.Sipariş</td>\n",
       "      <td>Unknown</td>\n",
       "      <td>Not Specified</td>\n",
       "      <td>Unknown</td>\n",
       "      <td>0.0</td>\n",
       "      <td>0.0</td>\n",
       "      <td>0.0</td>\n",
       "      <td>0.0</td>\n",
       "      <td>0.0</td>\n",
       "      <td>0.0</td>\n",
       "      <td>0.0</td>\n",
       "      <td>1.0</td>\n",
       "      <td>0.0</td>\n",
       "      <td>0.0</td>\n",
       "      <td>1.0</td>\n",
       "    </tr>\n",
       "    <tr>\n",
       "      <th>4</th>\n",
       "      <td>Trendyol Express Marketplace</td>\n",
       "      <td>2024-01-01 00:14:00</td>\n",
       "      <td>İstanbul</td>\n",
       "      <td>BizimModa</td>\n",
       "      <td>Hayır</td>\n",
       "      <td>2.Sipariş</td>\n",
       "      <td>Unknown</td>\n",
       "      <td>Not Specified</td>\n",
       "      <td>Unknown</td>\n",
       "      <td>0.0</td>\n",
       "      <td>0.0</td>\n",
       "      <td>0.0</td>\n",
       "      <td>0.0</td>\n",
       "      <td>0.0</td>\n",
       "      <td>0.0</td>\n",
       "      <td>0.0</td>\n",
       "      <td>1.0</td>\n",
       "      <td>0.0</td>\n",
       "      <td>0.0</td>\n",
       "      <td>1.0</td>\n",
       "    </tr>\n",
       "  </tbody>\n",
       "</table>\n",
       "</div>"
      ]
     },
     "execution_count": 15,
     "metadata": {},
     "output_type": "execute_result"
    }
   ],
   "execution_count": 15
  },
  {
   "metadata": {
    "ExecuteTime": {
     "end_time": "2025-01-04T09:44:00.054971Z",
     "start_time": "2025-01-04T09:44:00.049168Z"
    }
   },
   "cell_type": "code",
   "source": [
    "# independent variables and target variable\n",
    "X = df[['Yas', 'Cinsiyet']]\n",
    "y = df['Adet']\n",
    "\n",
    "print(\"\\nFeatures (X):\")\n",
    "print(X.head())\n",
    "\n",
    "print(\"\\nTarget (y):\")\n",
    "print(y.head())\n"
   ],
   "id": "cba6ae51350ef637",
   "outputs": [
    {
     "name": "stdout",
     "output_type": "stream",
     "text": [
      "\n",
      "Features (X):\n",
      "   Yas  Cinsiyet\n",
      "0    1         2\n",
      "1    1         2\n",
      "3    1         2\n",
      "6    3         2\n",
      "7    6         2\n",
      "\n",
      "Target (y):\n",
      "0    3\n",
      "1    2\n",
      "3    2\n",
      "6    1\n",
      "7    1\n",
      "Name: Adet, dtype: int64\n"
     ]
    }
   ],
   "execution_count": 11
  },
  {
   "metadata": {
    "ExecuteTime": {
     "end_time": "2024-12-03T11:39:02.341967Z",
     "start_time": "2024-12-03T11:39:02.278683Z"
    }
   },
   "cell_type": "code",
   "source": "",
   "id": "8eb9e0bd7b8723b6",
   "outputs": [
    {
     "data": {
      "text/plain": [
       "  age_group            sex  cluster\n",
       "0   Unknown  Not Specified        2\n",
       "1   Unknown  Not Specified        2\n",
       "2   Unknown  Not Specified        2\n",
       "3   Unknown  Not Specified        2\n",
       "4   Unknown  Not Specified        2"
      ],
      "text/html": [
       "<div>\n",
       "<style scoped>\n",
       "    .dataframe tbody tr th:only-of-type {\n",
       "        vertical-align: middle;\n",
       "    }\n",
       "\n",
       "    .dataframe tbody tr th {\n",
       "        vertical-align: top;\n",
       "    }\n",
       "\n",
       "    .dataframe thead th {\n",
       "        text-align: right;\n",
       "    }\n",
       "</style>\n",
       "<table border=\"1\" class=\"dataframe\">\n",
       "  <thead>\n",
       "    <tr style=\"text-align: right;\">\n",
       "      <th></th>\n",
       "      <th>age_group</th>\n",
       "      <th>sex</th>\n",
       "      <th>cluster</th>\n",
       "    </tr>\n",
       "  </thead>\n",
       "  <tbody>\n",
       "    <tr>\n",
       "      <th>0</th>\n",
       "      <td>Unknown</td>\n",
       "      <td>Not Specified</td>\n",
       "      <td>2</td>\n",
       "    </tr>\n",
       "    <tr>\n",
       "      <th>1</th>\n",
       "      <td>Unknown</td>\n",
       "      <td>Not Specified</td>\n",
       "      <td>2</td>\n",
       "    </tr>\n",
       "    <tr>\n",
       "      <th>2</th>\n",
       "      <td>Unknown</td>\n",
       "      <td>Not Specified</td>\n",
       "      <td>2</td>\n",
       "    </tr>\n",
       "    <tr>\n",
       "      <th>3</th>\n",
       "      <td>Unknown</td>\n",
       "      <td>Not Specified</td>\n",
       "      <td>2</td>\n",
       "    </tr>\n",
       "    <tr>\n",
       "      <th>4</th>\n",
       "      <td>Unknown</td>\n",
       "      <td>Not Specified</td>\n",
       "      <td>2</td>\n",
       "    </tr>\n",
       "  </tbody>\n",
       "</table>\n",
       "</div>"
      ]
     },
     "execution_count": 24,
     "metadata": {},
     "output_type": "execute_result"
    }
   ],
   "execution_count": 24
  },
  {
   "metadata": {
    "ExecuteTime": {
     "end_time": "2025-01-04T09:44:17.891768Z",
     "start_time": "2025-01-04T09:44:17.879065Z"
    }
   },
   "cell_type": "code",
   "source": [
    "X_train, X_test, y_train, y_test = train_test_split(X, y, test_size=0.2, random_state=42)\n",
    "\n",
    "print(\"\\nData split complete:\")\n",
    "print(f\"Training set size: {X_train.shape[0]} rows\")\n",
    "print(f\"Test set size: {X_test.shape[0]} rows\")"
   ],
   "id": "33f97561535b312",
   "outputs": [
    {
     "name": "stdout",
     "output_type": "stream",
     "text": [
      "\n",
      "Data split complete:\n",
      "Training set size: 10045 rows\n",
      "Test set size: 2512 rows\n"
     ]
    }
   ],
   "execution_count": 12
  },
  {
   "metadata": {
    "ExecuteTime": {
     "end_time": "2025-01-04T09:45:45.123550Z",
     "start_time": "2025-01-04T09:45:44.885096Z"
    }
   },
   "cell_type": "code",
   "source": [
    "# Initialize and train the Random Forest model\n",
    "model = RandomForestRegressor(random_state=42, n_estimators=100)\n",
    "model.fit(X_train, y_train)\n",
    "\n",
    "print(\"\\nModel training complete.\")"
   ],
   "id": "e30613964902d30c",
   "outputs": [
    {
     "name": "stdout",
     "output_type": "stream",
     "text": [
      "\n",
      "Model training complete.\n"
     ]
    }
   ],
   "execution_count": 13
  },
  {
   "metadata": {
    "ExecuteTime": {
     "end_time": "2025-01-04T09:45:54.526148Z",
     "start_time": "2025-01-04T09:45:54.513655Z"
    }
   },
   "cell_type": "code",
   "source": [
    "y_pred = model.predict(X_test)\n",
    "\n",
    "mae = mean_absolute_error(y_test, y_pred)\n",
    "rmse = mean_squared_error(y_test, y_pred, squared=False)\n",
    "\n",
    "print(\"\\nModel evaluation results:\")\n",
    "print(f\"Mean Absolute Error (MAE): {mae}\")\n",
    "print(f\"Root Mean Squared Error (RMSE): {rmse}\")"
   ],
   "id": "187c67f04210b955",
   "outputs": [
    {
     "name": "stdout",
     "output_type": "stream",
     "text": [
      "\n",
      "Model evaluation results:\n",
      "Mean Absolute Error (MAE): 1.0493693758637808\n",
      "Root Mean Squared Error (RMSE): 1.6829419441941391\n"
     ]
    },
    {
     "name": "stderr",
     "output_type": "stream",
     "text": [
      "C:\\Users\\berka\\ss\\customer segmentation\\.venv\\Lib\\site-packages\\sklearn\\metrics\\_regression.py:492: FutureWarning: 'squared' is deprecated in version 1.4 and will be removed in 1.6. To calculate the root mean squared error, use the function'root_mean_squared_error'.\n",
      "  warnings.warn(\n"
     ]
    }
   ],
   "execution_count": 14
  },
  {
   "metadata": {
    "ExecuteTime": {
     "end_time": "2025-01-04T09:49:13.688656Z",
     "start_time": "2025-01-04T09:49:13.682314Z"
    }
   },
   "cell_type": "code",
   "source": [
    "new_data = pd.DataFrame({\n",
    "    'Yas': [2],  # Example: '31-40'\n",
    "    'Cinsiyet': [1]  # Example: 'Erkek'\n",
    "})\n",
    "\n",
    "# Predict the product count\n",
    "predicted_count = model.predict(new_data)\n",
    "print(\"\\nPredicted product count for the new data:\", predicted_count[0])"
   ],
   "id": "614066d39932aabe",
   "outputs": [
    {
     "name": "stdout",
     "output_type": "stream",
     "text": [
      "\n",
      "Predicted product count for the new data: 2.3377381523064504\n"
     ]
    }
   ],
   "execution_count": 23
  },
  {
   "metadata": {
    "ExecuteTime": {
     "end_time": "2025-01-04T09:55:03.961882Z",
     "start_time": "2025-01-04T09:55:03.763721Z"
    }
   },
   "cell_type": "code",
   "source": [
    "from xgboost import XGBRegressor\n",
    "\n",
    "xgb_model = XGBRegressor(\n",
    "    random_state=42,\n",
    "    n_estimators=1000,      \n",
    "    learning_rate=0.05,      \n",
    "    max_depth=5,           \n",
    "    subsample=0.8,          \n",
    "    colsample_bytree=0.8   \n",
    ")\n",
    "\n",
    "xgb_model.fit(X_train, y_train)\n",
    "\n",
    "xgb_y_pred = xgb_model.predict(X_test)\n",
    "\n",
    "xgb_mae = mean_absolute_error(y_test, xgb_y_pred)\n",
    "xgb_rmse = mean_squared_error(y_test, xgb_y_pred, squared=False)\n",
    "\n",
    "print(\"\\nUpdated XGBoost model evaluation results with new hyperparameters:\")\n",
    "print(f\"Mean Absolute Error (MAE): {xgb_mae}\")\n",
    "print(f\"Root Mean Squared Error (RMSE): {xgb_rmse}\")\n"
   ],
   "id": "d3567b3a4e420c1f",
   "outputs": [
    {
     "name": "stdout",
     "output_type": "stream",
     "text": [
      "\n",
      "Updated XGBoost model evaluation results with new hyperparameters:\n",
      "Mean Absolute Error (MAE): 1.0482709230795788\n",
      "Root Mean Squared Error (RMSE): 1.6821456550946459\n"
     ]
    },
    {
     "name": "stderr",
     "output_type": "stream",
     "text": [
      "C:\\Users\\berka\\ss\\customer segmentation\\.venv\\Lib\\site-packages\\sklearn\\metrics\\_regression.py:492: FutureWarning: 'squared' is deprecated in version 1.4 and will be removed in 1.6. To calculate the root mean squared error, use the function'root_mean_squared_error'.\n",
      "  warnings.warn(\n"
     ]
    }
   ],
   "execution_count": 41
  },
  {
   "metadata": {
    "ExecuteTime": {
     "end_time": "2025-01-04T09:52:39.669179Z",
     "start_time": "2025-01-04T09:52:39.664792Z"
    }
   },
   "cell_type": "code",
   "source": [
    "comparison = pd.DataFrame({\n",
    "    \"Model\": [\"Random Forest\", \"XGBoost\"],\n",
    "    \"Mean Absolute Error (MAE)\": [mae, xgb_mae],\n",
    "    \"Root Mean Squared Error (RMSE)\": [rmse, xgb_rmse]\n",
    "})\n",
    "\n",
    "print(\"\\nModel Performance Comparison:\")\n",
    "print(comparison)"
   ],
   "id": "b08a00b92d98ab7",
   "outputs": [
    {
     "name": "stdout",
     "output_type": "stream",
     "text": [
      "\n",
      "Model Performance Comparison:\n",
      "           Model  Mean Absolute Error (MAE)  Root Mean Squared Error (RMSE)\n",
      "0  Random Forest                   1.049369                        1.682942\n",
      "1        XGBoost                   1.048443                        1.682312\n"
     ]
    }
   ],
   "execution_count": 29
  },
  {
   "metadata": {
    "ExecuteTime": {
     "end_time": "2025-01-04T09:55:14.600628Z",
     "start_time": "2025-01-04T09:55:14.594800Z"
    }
   },
   "cell_type": "code",
   "source": [
    "# Example input for prediction\n",
    "new_data = pd.DataFrame({\n",
    "    'Yas': [1],  # Example: '31-40'\n",
    "    'Cinsiyet': [2]  # Example: 'Erkek'\n",
    "})\n",
    "\n",
    "# Predict the product count using XGBoost\n",
    "xgb_predicted_count = xgb_model.predict(new_data)\n",
    "print(\"\\nPredicted product count with XGBoost for the new data:\", xgb_predicted_count[0])\n"
   ],
   "id": "f15686a4541dbcea",
   "outputs": [
    {
     "name": "stdout",
     "output_type": "stream",
     "text": [
      "\n",
      "Predicted product count with XGBoost for the new data: 1.7183068\n"
     ]
    }
   ],
   "execution_count": 44
  }
 ],
 "metadata": {
  "kernelspec": {
   "display_name": "Python 3",
   "language": "python",
   "name": "python3"
  },
  "language_info": {
   "codemirror_mode": {
    "name": "ipython",
    "version": 2
   },
   "file_extension": ".py",
   "mimetype": "text/x-python",
   "name": "python",
   "nbconvert_exporter": "python",
   "pygments_lexer": "ipython2",
   "version": "2.7.6"
  }
 },
 "nbformat": 4,
 "nbformat_minor": 5
}
